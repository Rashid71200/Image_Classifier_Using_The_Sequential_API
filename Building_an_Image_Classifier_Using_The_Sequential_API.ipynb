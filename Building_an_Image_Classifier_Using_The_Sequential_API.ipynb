{
  "nbformat": 4,
  "nbformat_minor": 0,
  "metadata": {
    "colab": {
      "provenance": [],
      "authorship_tag": "ABX9TyM1zaiHyhUCsB9xaxovDDfI",
      "include_colab_link": true
    },
    "kernelspec": {
      "name": "python3",
      "display_name": "Python 3"
    },
    "language_info": {
      "name": "python"
    }
  },
  "cells": [
    {
      "cell_type": "markdown",
      "metadata": {
        "id": "view-in-github",
        "colab_type": "text"
      },
      "source": [
        "<a href=\"https://colab.research.google.com/github/Rashid71200/Image_Classifier_Using_The_Sequential_API/blob/main/Building_an_Image_Classifier_Using_The_Sequential_API.ipynb\" target=\"_parent\"><img src=\"https://colab.research.google.com/assets/colab-badge.svg\" alt=\"Open In Colab\"/></a>"
      ]
    },
    {
      "cell_type": "code",
      "execution_count": 1,
      "metadata": {
        "id": "n7ShaxCFB_oB"
      },
      "outputs": [],
      "source": [
        "import tensorflow as tf"
      ]
    },
    {
      "cell_type": "code",
      "source": [
        "from tensorflow import keras\n"
      ],
      "metadata": {
        "id": "P5mO8Q14EZx_"
      },
      "execution_count": 2,
      "outputs": []
    },
    {
      "cell_type": "code",
      "source": [
        "import matplotlib.pyplot as plt"
      ],
      "metadata": {
        "id": "_TqtzOP4Rost"
      },
      "execution_count": 3,
      "outputs": []
    },
    {
      "cell_type": "code",
      "source": [
        "import matplotlib.image as mpimg"
      ],
      "metadata": {
        "id": "kGGXxFp3TTdN"
      },
      "execution_count": 4,
      "outputs": []
    },
    {
      "cell_type": "code",
      "source": [
        "import numpy as np\n"
      ],
      "metadata": {
        "id": "GxytpQz6SIJG"
      },
      "execution_count": 5,
      "outputs": []
    },
    {
      "cell_type": "code",
      "source": [
        "import pandas as pd"
      ],
      "metadata": {
        "id": "uA1bfB80dDwV"
      },
      "execution_count": 6,
      "outputs": []
    },
    {
      "cell_type": "code",
      "source": [
        "fashion_mnist = keras.datasets.fashion_mnist\n"
      ],
      "metadata": {
        "id": "VcLangVKKM84"
      },
      "execution_count": 7,
      "outputs": []
    },
    {
      "cell_type": "code",
      "source": [
        "(X_train_full, y_train_full), (X_test, Y_test) = fashion_mnist.load_data()"
      ],
      "metadata": {
        "id": "7RNO9H0fKr4c"
      },
      "execution_count": 8,
      "outputs": []
    },
    {
      "cell_type": "code",
      "source": [
        "print(len(X_train_full))"
      ],
      "metadata": {
        "colab": {
          "base_uri": "https://localhost:8080/"
        },
        "id": "sP9YNH050B46",
        "outputId": "b3814beb-cd71-429d-ab98-bdf90504a4e7"
      },
      "execution_count": 9,
      "outputs": [
        {
          "output_type": "stream",
          "name": "stdout",
          "text": [
            "60000\n"
          ]
        }
      ]
    },
    {
      "cell_type": "code",
      "source": [
        "X_valid, X_train = X_train_full[ :10000] / 255.0, X_train_full[50000: ] / 255.0"
      ],
      "metadata": {
        "id": "NNEEbWsoLF8l"
      },
      "execution_count": 10,
      "outputs": []
    },
    {
      "cell_type": "code",
      "source": [
        "y_valid, y_train = y_train_full[ :10000], y_train_full[50000: ]"
      ],
      "metadata": {
        "id": "6SMx1tEiLtiN"
      },
      "execution_count": 11,
      "outputs": []
    },
    {
      "cell_type": "code",
      "source": [
        "class_name = [\"T-shirt/top\", \"Trouser\", \"Pullover\", \"Dress\", \"Coat\", \"Sandel\", \"Shirt\", \"Sneaker\", \"Bag\", \"Ankel boot\"]\n",
        "\n"
      ],
      "metadata": {
        "id": "l1cFSG2vQ3KH"
      },
      "execution_count": 33,
      "outputs": []
    },
    {
      "cell_type": "code",
      "source": [
        "plt.imshow(X_train[9999])"
      ],
      "metadata": {
        "colab": {
          "base_uri": "https://localhost:8080/",
          "height": 447
        },
        "id": "hpqBcQxLSgT-",
        "outputId": "ad1e46c0-6090-4ad2-e1a7-7c63b289d603"
      },
      "execution_count": 13,
      "outputs": [
        {
          "output_type": "execute_result",
          "data": {
            "text/plain": [
              "<matplotlib.image.AxesImage at 0x7fe721e39ea0>"
            ]
          },
          "metadata": {},
          "execution_count": 13
        },
        {
          "output_type": "display_data",
          "data": {
            "text/plain": [
              "<Figure size 640x480 with 1 Axes>"
            ],
            "image/png": "[encoded data removed]"
          },
          "metadata": {}
        }
      ]
    },
    {
      "cell_type": "code",
      "source": [
        "print(class_name[y_train[9999]])"
      ],
      "metadata": {
        "colab": {
          "base_uri": "https://localhost:8080/"
        },
        "id": "3D2IFlKoU81T",
        "outputId": "4344fb0b-8a15-4117-8463-55bc6fdafe35"
      },
      "execution_count": 14,
      "outputs": [
        {
          "output_type": "stream",
          "name": "stdout",
          "text": [
            "Sandel\n"
          ]
        }
      ]
    },
    {
      "cell_type": "code",
      "source": [
        "# Now let's build our Neural network! "
      ],
      "metadata": {
        "id": "TJ0JhVWrVSLO"
      },
      "execution_count": 15,
      "outputs": []
    },
    {
      "cell_type": "code",
      "source": [
        "model = keras.models.Sequential()"
      ],
      "metadata": {
        "id": "i74bpzLaVh4m"
      },
      "execution_count": 16,
      "outputs": []
    },
    {
      "cell_type": "code",
      "source": [
        "model.add(keras.layers.Flatten(input_shape=[28, 28]))"
      ],
      "metadata": {
        "id": "hC9z7eCzVvJM"
      },
      "execution_count": 17,
      "outputs": []
    },
    {
      "cell_type": "code",
      "source": [
        "model.add(keras.layers.Dense(300, activation=\"relu\"))"
      ],
      "metadata": {
        "id": "e6b5BRoPWFNc"
      },
      "execution_count": 18,
      "outputs": []
    },
    {
      "cell_type": "code",
      "source": [
        "model.add(keras.layers.Dense(100, activation=\"relu\"))"
      ],
      "metadata": {
        "id": "_uJBE6-fWZus"
      },
      "execution_count": 19,
      "outputs": []
    },
    {
      "cell_type": "code",
      "source": [
        "#from tensorflow.python.ops.gen_nn_ops import softmax\n",
        "model.add(keras.layers.Dense(10, activation=\"softmax\"))"
      ],
      "metadata": {
        "id": "m3VlA_DgWspU"
      },
      "execution_count": 20,
      "outputs": []
    },
    {
      "cell_type": "code",
      "source": [
        "model.summary()"
      ],
      "metadata": {
        "colab": {
          "base_uri": "https://localhost:8080/"
        },
        "id": "tx4aTxeNYFjt",
        "outputId": "fdbf8be4-b3c4-4d8b-f3c5-f53fa9199035"
      },
      "execution_count": 21,
      "outputs": [
        {
          "output_type": "stream",
          "name": "stdout",
          "text": [
            "Model: \"sequential\"\n",
            "_________________________________________________________________\n",
            " Layer (type)                Output Shape              Param #   \n",
            "=================================================================\n",
            " flatten (Flatten)           (None, 784)               0         \n",
            "                                                                 \n",
            " dense (Dense)               (None, 300)               235500    \n",
            "                                                                 \n",
            " dense_1 (Dense)             (None, 100)               30100     \n",
            "                                                                 \n",
            " dense_2 (Dense)             (None, 10)                1010      \n",
            "                                                                 \n",
            "=================================================================\n",
            "Total params: 266,610\n",
            "Trainable params: 266,610\n",
            "Non-trainable params: 0\n",
            "_________________________________________________________________\n"
          ]
        }
      ]
    },
    {
      "cell_type": "code",
      "source": [
        "model.compile(loss=\"sparse_categorical_crossentropy\",\n",
        " optimizer=\"sgd\",\n",
        " metrics=[\"accuracy\"])\n"
      ],
      "metadata": {
        "id": "gczokZtjZODd"
      },
      "execution_count": 22,
      "outputs": []
    },
    {
      "cell_type": "code",
      "source": [
        "history = model.fit(X_train, y_train, epochs=100,\n",
        "                    validation_data=(X_valid, y_valid))"
      ],
      "metadata": {
        "colab": {
          "base_uri": "https://localhost:8080/"
        },
        "id": "JRV9ZkfjZ1al",
        "outputId": "a3469d59-f541-479b-d7f7-bc3513e098ba"
      },
      "execution_count": 23,
      "outputs": [
        {
          "output_type": "stream",
          "name": "stdout",
          "text": [
            "Epoch 1/100\n",
            "313/313 [==============================] - 3s 7ms/step - loss: 1.1587 - accuracy: 0.6438 - val_loss: 0.7990 - val_accuracy: 0.7354\n",
            "Epoch 2/100\n",
            "313/313 [==============================] - 2s 5ms/step - loss: 0.7094 - accuracy: 0.7614 - val_loss: 0.6985 - val_accuracy: 0.7447\n",
            "Epoch 3/100\n",
            "313/313 [==============================] - 2s 5ms/step - loss: 0.6180 - accuracy: 0.7885 - val_loss: 0.5883 - val_accuracy: 0.7996\n",
            "Epoch 4/100\n",
            "313/313 [==============================] - 2s 5ms/step - loss: 0.5673 - accuracy: 0.8024 - val_loss: 0.6069 - val_accuracy: 0.7866\n",
            "Epoch 5/100\n",
            "313/313 [==============================] - 3s 9ms/step - loss: 0.5370 - accuracy: 0.8111 - val_loss: 0.6023 - val_accuracy: 0.7856\n",
            "Epoch 6/100\n",
            "313/313 [==============================] - 4s 11ms/step - loss: 0.5154 - accuracy: 0.8204 - val_loss: 0.5132 - val_accuracy: 0.8232\n",
            "Epoch 7/100\n",
            "313/313 [==============================] - 3s 9ms/step - loss: 0.4947 - accuracy: 0.8267 - val_loss: 0.5239 - val_accuracy: 0.8153\n",
            "Epoch 8/100\n",
            "313/313 [==============================] - 3s 9ms/step - loss: 0.4785 - accuracy: 0.8331 - val_loss: 0.4791 - val_accuracy: 0.8344\n",
            "Epoch 9/100\n",
            "313/313 [==============================] - 3s 8ms/step - loss: 0.4649 - accuracy: 0.8364 - val_loss: 0.4809 - val_accuracy: 0.8334\n",
            "Epoch 10/100\n",
            "313/313 [==============================] - 2s 6ms/step - loss: 0.4547 - accuracy: 0.8391 - val_loss: 0.4994 - val_accuracy: 0.8234\n",
            "Epoch 11/100\n",
            "313/313 [==============================] - 2s 7ms/step - loss: 0.4424 - accuracy: 0.8452 - val_loss: 0.5191 - val_accuracy: 0.8145\n",
            "Epoch 12/100\n",
            "313/313 [==============================] - 2s 5ms/step - loss: 0.4356 - accuracy: 0.8476 - val_loss: 0.5902 - val_accuracy: 0.7812\n",
            "Epoch 13/100\n",
            "313/313 [==============================] - 2s 5ms/step - loss: 0.4251 - accuracy: 0.8497 - val_loss: 0.4507 - val_accuracy: 0.8441\n",
            "Epoch 14/100\n",
            "313/313 [==============================] - 2s 6ms/step - loss: 0.4161 - accuracy: 0.8555 - val_loss: 0.5347 - val_accuracy: 0.8123\n",
            "Epoch 15/100\n",
            "313/313 [==============================] - 2s 5ms/step - loss: 0.4068 - accuracy: 0.8580 - val_loss: 0.5106 - val_accuracy: 0.8221\n",
            "Epoch 16/100\n",
            "313/313 [==============================] - 2s 6ms/step - loss: 0.4024 - accuracy: 0.8581 - val_loss: 0.4383 - val_accuracy: 0.8486\n",
            "Epoch 17/100\n",
            "313/313 [==============================] - 2s 5ms/step - loss: 0.3956 - accuracy: 0.8603 - val_loss: 0.4845 - val_accuracy: 0.8301\n",
            "Epoch 18/100\n",
            "313/313 [==============================] - 2s 6ms/step - loss: 0.3882 - accuracy: 0.8612 - val_loss: 0.4277 - val_accuracy: 0.8491\n",
            "Epoch 19/100\n",
            "313/313 [==============================] - 2s 6ms/step - loss: 0.3790 - accuracy: 0.8689 - val_loss: 0.4885 - val_accuracy: 0.8284\n",
            "Epoch 20/100\n",
            "313/313 [==============================] - 2s 5ms/step - loss: 0.3747 - accuracy: 0.8672 - val_loss: 0.6223 - val_accuracy: 0.8008\n",
            "Epoch 21/100\n",
            "313/313 [==============================] - 2s 5ms/step - loss: 0.3734 - accuracy: 0.8695 - val_loss: 0.4869 - val_accuracy: 0.8369\n",
            "Epoch 22/100\n",
            "313/313 [==============================] - 2s 5ms/step - loss: 0.3657 - accuracy: 0.8705 - val_loss: 0.5005 - val_accuracy: 0.8334\n",
            "Epoch 23/100\n",
            "313/313 [==============================] - 1s 4ms/step - loss: 0.3599 - accuracy: 0.8736 - val_loss: 0.4507 - val_accuracy: 0.8406\n",
            "Epoch 24/100\n",
            "313/313 [==============================] - 2s 5ms/step - loss: 0.3568 - accuracy: 0.8739 - val_loss: 0.4236 - val_accuracy: 0.8528\n",
            "Epoch 25/100\n",
            "313/313 [==============================] - 3s 8ms/step - loss: 0.3486 - accuracy: 0.8752 - val_loss: 0.4217 - val_accuracy: 0.8561\n",
            "Epoch 26/100\n",
            "313/313 [==============================] - 2s 5ms/step - loss: 0.3435 - accuracy: 0.8794 - val_loss: 0.4129 - val_accuracy: 0.8542\n",
            "Epoch 27/100\n",
            "313/313 [==============================] - 2s 5ms/step - loss: 0.3404 - accuracy: 0.8820 - val_loss: 0.4106 - val_accuracy: 0.8595\n",
            "Epoch 28/100\n",
            "313/313 [==============================] - 2s 6ms/step - loss: 0.3345 - accuracy: 0.8819 - val_loss: 0.4296 - val_accuracy: 0.8457\n",
            "Epoch 29/100\n",
            "313/313 [==============================] - 1s 5ms/step - loss: 0.3278 - accuracy: 0.8870 - val_loss: 0.5882 - val_accuracy: 0.7846\n",
            "Epoch 30/100\n",
            "313/313 [==============================] - 1s 5ms/step - loss: 0.3246 - accuracy: 0.8854 - val_loss: 0.4730 - val_accuracy: 0.8431\n",
            "Epoch 31/100\n",
            "313/313 [==============================] - 2s 5ms/step - loss: 0.3236 - accuracy: 0.8860 - val_loss: 0.4286 - val_accuracy: 0.8536\n",
            "Epoch 32/100\n",
            "313/313 [==============================] - 2s 6ms/step - loss: 0.3183 - accuracy: 0.8874 - val_loss: 0.4190 - val_accuracy: 0.8577\n",
            "Epoch 33/100\n",
            "313/313 [==============================] - 1s 5ms/step - loss: 0.3157 - accuracy: 0.8883 - val_loss: 0.4044 - val_accuracy: 0.8592\n",
            "Epoch 34/100\n",
            "313/313 [==============================] - 2s 5ms/step - loss: 0.3084 - accuracy: 0.8937 - val_loss: 0.4345 - val_accuracy: 0.8431\n",
            "Epoch 35/100\n",
            "313/313 [==============================] - 2s 5ms/step - loss: 0.3059 - accuracy: 0.8960 - val_loss: 0.4090 - val_accuracy: 0.8551\n",
            "Epoch 36/100\n",
            "313/313 [==============================] - 2s 5ms/step - loss: 0.3017 - accuracy: 0.8930 - val_loss: 0.4202 - val_accuracy: 0.8558\n",
            "Epoch 37/100\n",
            "313/313 [==============================] - 3s 8ms/step - loss: 0.2952 - accuracy: 0.8989 - val_loss: 0.4444 - val_accuracy: 0.8503\n",
            "Epoch 38/100\n",
            "313/313 [==============================] - 4s 13ms/step - loss: 0.2958 - accuracy: 0.8965 - val_loss: 0.4098 - val_accuracy: 0.8599\n",
            "Epoch 39/100\n",
            "313/313 [==============================] - 3s 10ms/step - loss: 0.2880 - accuracy: 0.8994 - val_loss: 0.4169 - val_accuracy: 0.8553\n",
            "Epoch 40/100\n",
            "313/313 [==============================] - 3s 10ms/step - loss: 0.2831 - accuracy: 0.9012 - val_loss: 0.4257 - val_accuracy: 0.8506\n",
            "Epoch 41/100\n",
            "313/313 [==============================] - 2s 5ms/step - loss: 0.2834 - accuracy: 0.9014 - val_loss: 0.4127 - val_accuracy: 0.8578\n",
            "Epoch 42/100\n",
            "313/313 [==============================] - 2s 5ms/step - loss: 0.2775 - accuracy: 0.9024 - val_loss: 0.4770 - val_accuracy: 0.8453\n",
            "Epoch 43/100\n",
            "313/313 [==============================] - 2s 6ms/step - loss: 0.2764 - accuracy: 0.9007 - val_loss: 0.4477 - val_accuracy: 0.8489\n",
            "Epoch 44/100\n",
            "313/313 [==============================] - 2s 5ms/step - loss: 0.2729 - accuracy: 0.9057 - val_loss: 0.4027 - val_accuracy: 0.8577\n",
            "Epoch 45/100\n",
            "313/313 [==============================] - 2s 5ms/step - loss: 0.2675 - accuracy: 0.9069 - val_loss: 0.4238 - val_accuracy: 0.8480\n",
            "Epoch 46/100\n",
            "313/313 [==============================] - 1s 5ms/step - loss: 0.2648 - accuracy: 0.9058 - val_loss: 0.4309 - val_accuracy: 0.8540\n",
            "Epoch 47/100\n",
            "313/313 [==============================] - 2s 5ms/step - loss: 0.2626 - accuracy: 0.9075 - val_loss: 0.4138 - val_accuracy: 0.8577\n",
            "Epoch 48/100\n",
            "313/313 [==============================] - 2s 5ms/step - loss: 0.2569 - accuracy: 0.9114 - val_loss: 0.4120 - val_accuracy: 0.8555\n",
            "Epoch 49/100\n",
            "313/313 [==============================] - 2s 5ms/step - loss: 0.2586 - accuracy: 0.9103 - val_loss: 0.3995 - val_accuracy: 0.8612\n",
            "Epoch 50/100\n",
            "313/313 [==============================] - 3s 9ms/step - loss: 0.2519 - accuracy: 0.9132 - val_loss: 0.4757 - val_accuracy: 0.8387\n",
            "Epoch 51/100\n",
            "313/313 [==============================] - 2s 6ms/step - loss: 0.2465 - accuracy: 0.9163 - val_loss: 0.4705 - val_accuracy: 0.8508\n",
            "Epoch 52/100\n",
            "313/313 [==============================] - 2s 5ms/step - loss: 0.2445 - accuracy: 0.9185 - val_loss: 0.4193 - val_accuracy: 0.8535\n",
            "Epoch 53/100\n",
            "313/313 [==============================] - 2s 5ms/step - loss: 0.2458 - accuracy: 0.9147 - val_loss: 0.4044 - val_accuracy: 0.8600\n",
            "Epoch 54/100\n",
            "313/313 [==============================] - 2s 5ms/step - loss: 0.2380 - accuracy: 0.9182 - val_loss: 0.4320 - val_accuracy: 0.8551\n",
            "Epoch 55/100\n",
            "313/313 [==============================] - 2s 6ms/step - loss: 0.2364 - accuracy: 0.9199 - val_loss: 0.4346 - val_accuracy: 0.8504\n",
            "Epoch 56/100\n",
            "313/313 [==============================] - 2s 8ms/step - loss: 0.2351 - accuracy: 0.9175 - val_loss: 0.4051 - val_accuracy: 0.8581\n",
            "Epoch 57/100\n",
            "313/313 [==============================] - 2s 6ms/step - loss: 0.2295 - accuracy: 0.9226 - val_loss: 0.4099 - val_accuracy: 0.8613\n",
            "Epoch 58/100\n",
            "313/313 [==============================] - 2s 5ms/step - loss: 0.2247 - accuracy: 0.9240 - val_loss: 0.4574 - val_accuracy: 0.8502\n",
            "Epoch 59/100\n",
            "313/313 [==============================] - 2s 6ms/step - loss: 0.2240 - accuracy: 0.9222 - val_loss: 0.4228 - val_accuracy: 0.8536\n",
            "Epoch 60/100\n",
            "313/313 [==============================] - 2s 5ms/step - loss: 0.2176 - accuracy: 0.9277 - val_loss: 0.4397 - val_accuracy: 0.8488\n",
            "Epoch 61/100\n",
            "313/313 [==============================] - 2s 5ms/step - loss: 0.2162 - accuracy: 0.9249 - val_loss: 0.4494 - val_accuracy: 0.8483\n",
            "Epoch 62/100\n",
            "313/313 [==============================] - 2s 6ms/step - loss: 0.2205 - accuracy: 0.9197 - val_loss: 0.4314 - val_accuracy: 0.8513\n",
            "Epoch 63/100\n",
            "313/313 [==============================] - 2s 7ms/step - loss: 0.2096 - accuracy: 0.9288 - val_loss: 0.4204 - val_accuracy: 0.8581\n",
            "Epoch 64/100\n",
            "313/313 [==============================] - 2s 5ms/step - loss: 0.2062 - accuracy: 0.9279 - val_loss: 0.4097 - val_accuracy: 0.8633\n",
            "Epoch 65/100\n",
            "313/313 [==============================] - 2s 6ms/step - loss: 0.2102 - accuracy: 0.9290 - val_loss: 0.4031 - val_accuracy: 0.8631\n",
            "Epoch 66/100\n",
            "313/313 [==============================] - 2s 5ms/step - loss: 0.2056 - accuracy: 0.9289 - val_loss: 0.4137 - val_accuracy: 0.8571\n",
            "Epoch 67/100\n",
            "313/313 [==============================] - 2s 5ms/step - loss: 0.2008 - accuracy: 0.9303 - val_loss: 0.4947 - val_accuracy: 0.8298\n",
            "Epoch 68/100\n",
            "313/313 [==============================] - 2s 5ms/step - loss: 0.1989 - accuracy: 0.9308 - val_loss: 0.4007 - val_accuracy: 0.8642\n",
            "Epoch 69/100\n",
            "313/313 [==============================] - 2s 5ms/step - loss: 0.1952 - accuracy: 0.9301 - val_loss: 0.4859 - val_accuracy: 0.8346\n",
            "Epoch 70/100\n",
            "313/313 [==============================] - 2s 7ms/step - loss: 0.1950 - accuracy: 0.9317 - val_loss: 0.4342 - val_accuracy: 0.8578\n",
            "Epoch 71/100\n",
            "313/313 [==============================] - 2s 5ms/step - loss: 0.1900 - accuracy: 0.9343 - val_loss: 0.4374 - val_accuracy: 0.8502\n",
            "Epoch 72/100\n",
            "313/313 [==============================] - 2s 5ms/step - loss: 0.1917 - accuracy: 0.9341 - val_loss: 0.4041 - val_accuracy: 0.8646\n",
            "Epoch 73/100\n",
            "313/313 [==============================] - 2s 6ms/step - loss: 0.1843 - accuracy: 0.9384 - val_loss: 0.4516 - val_accuracy: 0.8476\n",
            "Epoch 74/100\n",
            "313/313 [==============================] - 2s 5ms/step - loss: 0.1818 - accuracy: 0.9401 - val_loss: 0.4057 - val_accuracy: 0.8642\n",
            "Epoch 75/100\n",
            "313/313 [==============================] - 2s 6ms/step - loss: 0.1792 - accuracy: 0.9390 - val_loss: 0.4226 - val_accuracy: 0.8580\n",
            "Epoch 76/100\n",
            "313/313 [==============================] - 3s 8ms/step - loss: 0.1790 - accuracy: 0.9391 - val_loss: 0.4095 - val_accuracy: 0.8631\n",
            "Epoch 77/100\n",
            "313/313 [==============================] - 2s 6ms/step - loss: 0.1723 - accuracy: 0.9418 - val_loss: 0.4137 - val_accuracy: 0.8615\n",
            "Epoch 78/100\n",
            "313/313 [==============================] - 2s 5ms/step - loss: 0.1717 - accuracy: 0.9429 - val_loss: 0.4707 - val_accuracy: 0.8556\n",
            "Epoch 79/100\n",
            "313/313 [==============================] - 2s 5ms/step - loss: 0.1709 - accuracy: 0.9429 - val_loss: 0.4509 - val_accuracy: 0.8542\n",
            "Epoch 80/100\n",
            "313/313 [==============================] - 2s 6ms/step - loss: 0.1659 - accuracy: 0.9437 - val_loss: 0.4176 - val_accuracy: 0.8620\n",
            "Epoch 81/100\n",
            "313/313 [==============================] - 2s 6ms/step - loss: 0.1642 - accuracy: 0.9425 - val_loss: 0.4229 - val_accuracy: 0.8613\n",
            "Epoch 82/100\n",
            "313/313 [==============================] - 2s 8ms/step - loss: 0.1636 - accuracy: 0.9450 - val_loss: 0.4328 - val_accuracy: 0.8606\n",
            "Epoch 83/100\n",
            "313/313 [==============================] - 2s 6ms/step - loss: 0.1620 - accuracy: 0.9465 - val_loss: 0.4323 - val_accuracy: 0.8632\n",
            "Epoch 84/100\n",
            "313/313 [==============================] - 2s 5ms/step - loss: 0.1617 - accuracy: 0.9467 - val_loss: 0.4439 - val_accuracy: 0.8607\n",
            "Epoch 85/100\n",
            "313/313 [==============================] - 2s 5ms/step - loss: 0.1564 - accuracy: 0.9462 - val_loss: 0.4372 - val_accuracy: 0.8612\n",
            "Epoch 86/100\n",
            "313/313 [==============================] - 3s 8ms/step - loss: 0.1517 - accuracy: 0.9497 - val_loss: 0.4179 - val_accuracy: 0.8633\n",
            "Epoch 87/100\n",
            "313/313 [==============================] - 2s 5ms/step - loss: 0.1511 - accuracy: 0.9498 - val_loss: 0.4483 - val_accuracy: 0.8624\n",
            "Epoch 88/100\n",
            "313/313 [==============================] - 2s 7ms/step - loss: 0.1541 - accuracy: 0.9490 - val_loss: 0.4165 - val_accuracy: 0.8656\n",
            "Epoch 89/100\n",
            "313/313 [==============================] - 2s 6ms/step - loss: 0.1505 - accuracy: 0.9495 - val_loss: 0.4380 - val_accuracy: 0.8601\n",
            "Epoch 90/100\n",
            "313/313 [==============================] - 2s 5ms/step - loss: 0.1470 - accuracy: 0.9521 - val_loss: 0.4507 - val_accuracy: 0.8589\n",
            "Epoch 91/100\n",
            "313/313 [==============================] - 2s 5ms/step - loss: 0.1421 - accuracy: 0.9555 - val_loss: 0.4849 - val_accuracy: 0.8488\n",
            "Epoch 92/100\n",
            "313/313 [==============================] - 2s 6ms/step - loss: 0.1388 - accuracy: 0.9552 - val_loss: 0.5577 - val_accuracy: 0.8240\n",
            "Epoch 93/100\n",
            "313/313 [==============================] - 2s 6ms/step - loss: 0.1409 - accuracy: 0.9543 - val_loss: 0.4492 - val_accuracy: 0.8600\n",
            "Epoch 94/100\n",
            "313/313 [==============================] - 2s 6ms/step - loss: 0.1358 - accuracy: 0.9554 - val_loss: 0.4362 - val_accuracy: 0.8635\n",
            "Epoch 95/100\n",
            "313/313 [==============================] - 2s 7ms/step - loss: 0.1360 - accuracy: 0.9546 - val_loss: 0.4251 - val_accuracy: 0.8651\n",
            "Epoch 96/100\n",
            "313/313 [==============================] - 2s 5ms/step - loss: 0.1323 - accuracy: 0.9576 - val_loss: 0.4513 - val_accuracy: 0.8594\n",
            "Epoch 97/100\n",
            "313/313 [==============================] - 1s 5ms/step - loss: 0.1315 - accuracy: 0.9560 - val_loss: 0.4923 - val_accuracy: 0.8454\n",
            "Epoch 98/100\n",
            "313/313 [==============================] - 2s 6ms/step - loss: 0.1300 - accuracy: 0.9577 - val_loss: 0.4488 - val_accuracy: 0.8622\n",
            "Epoch 99/100\n",
            "313/313 [==============================] - 2s 6ms/step - loss: 0.1273 - accuracy: 0.9568 - val_loss: 0.4453 - val_accuracy: 0.8628\n",
            "Epoch 100/100\n",
            "313/313 [==============================] - 2s 5ms/step - loss: 0.1263 - accuracy: 0.9616 - val_loss: 0.4398 - val_accuracy: 0.8612\n"
          ]
        }
      ]
    },
    {
      "cell_type": "code",
      "source": [
        "pd.DataFrame(history.history).plot(figsize=(8, 5))\n",
        "plt.grid(True)\n",
        "plt.gca().set_ylim(0, 1)\n",
        "plt.show()"
      ],
      "metadata": {
        "colab": {
          "base_uri": "https://localhost:8080/",
          "height": 451
        },
        "id": "zjn1jqvOdZ3c",
        "outputId": "b107f448-cf1b-4d68-dc51-df5bbb4a5e11"
      },
      "execution_count": 24,
      "outputs": [
        {
          "output_type": "display_data",
          "data": {
            "text/plain": [
              "<Figure size 800x500 with 1 Axes>"
            ],
            "image/png": "[encoded data removed]"
          },
          "metadata": {}
        }
      ]
    },
    {
      "cell_type": "code",
      "source": [
        "model.evaluate(X_test, Y_test)"
      ],
      "metadata": {
        "colab": {
          "base_uri": "https://localhost:8080/"
        },
        "id": "2YnP3QBFzON5",
        "outputId": "1ef2b559-bd75-466b-9133-3d6e379be585"
      },
      "execution_count": 25,
      "outputs": [
        {
          "output_type": "stream",
          "name": "stdout",
          "text": [
            "313/313 [==============================] - 1s 2ms/step - loss: 111.7638 - accuracy: 0.8241\n"
          ]
        },
        {
          "output_type": "execute_result",
          "data": {
            "text/plain": [
              "[111.76380920410156, 0.8241000175476074]"
            ]
          },
          "metadata": {},
          "execution_count": 25
        }
      ]
    },
    {
      "cell_type": "code",
      "source": [
        "X_new = X_test[:1]"
      ],
      "metadata": {
        "id": "9Npbs7Vu4xGn"
      },
      "execution_count": 44,
      "outputs": []
    },
    {
      "cell_type": "code",
      "source": [
        "print(len(X_new))"
      ],
      "metadata": {
        "colab": {
          "base_uri": "https://localhost:8080/"
        },
        "id": "A8yRrF8y6cDo",
        "outputId": "34bfc302-27e4-41f5-93e2-f71a70a4471d"
      },
      "execution_count": 45,
      "outputs": [
        {
          "output_type": "stream",
          "name": "stdout",
          "text": [
            "1\n"
          ]
        }
      ]
    },
    {
      "cell_type": "code",
      "source": [
        "y_proba = model.predict(X_new)"
      ],
      "metadata": {
        "colab": {
          "base_uri": "https://localhost:8080/"
        },
        "id": "H09Ssxa05CP_",
        "outputId": "42311b71-25d4-4506-c897-babc7002d031"
      },
      "execution_count": 46,
      "outputs": [
        {
          "output_type": "stream",
          "name": "stdout",
          "text": [
            "1/1 [==============================] - 0s 20ms/step\n"
          ]
        }
      ]
    },
    {
      "cell_type": "code",
      "source": [
        "y_proba.round(2)"
      ],
      "metadata": {
        "colab": {
          "base_uri": "https://localhost:8080/"
        },
        "id": "t1Cfuunn5E63",
        "outputId": "875ed079-bad5-4111-e02d-29ebb8f7127d"
      },
      "execution_count": 47,
      "outputs": [
        {
          "output_type": "execute_result",
          "data": {
            "text/plain": [
              "array([[0., 0., 0., 0., 0., 0., 0., 0., 0., 1.]], dtype=float32)"
            ]
          },
          "metadata": {},
          "execution_count": 47
        }
      ]
    },
    {
      "cell_type": "code",
      "source": [
        "plt.imshow(X_test[0])"
      ],
      "metadata": {
        "colab": {
          "base_uri": "https://localhost:8080/",
          "height": 447
        },
        "id": "oHbHCUgF7GpR",
        "outputId": "d26a876f-8dc7-4a25-c16a-ada692631535"
      },
      "execution_count": 49,
      "outputs": [
        {
          "output_type": "execute_result",
          "data": {
            "text/plain": [
              "<matplotlib.image.AxesImage at 0x7fe6ffff49a0>"
            ]
          },
          "metadata": {},
          "execution_count": 49
        },
        {
          "output_type": "display_data",
          "data": {
            "text/plain": [
              "<Figure size 640x480 with 1 Axes>"
            ],
            "image/png": "[encoded data removed]"
          },
          "metadata": {}
        }
      ]
    },
    {
      "cell_type": "code",
      "source": [],
      "metadata": {
        "colab": {
          "base_uri": "https://localhost:8080/"
        },
        "id": "99Mmdxhu5OZn",
        "outputId": "06625988-cc09-436f-fd83-a20792c1fff1"
      },
      "execution_count": 35,
      "outputs": [
        {
          "output_type": "stream",
          "name": "stdout",
          "text": [
            "313/313 [==============================] - 0s 1ms/step\n"
          ]
        }
      ]
    },
    {
      "cell_type": "code",
      "source": [
        "print(y_pred[0])\n"
      ],
      "metadata": {
        "colab": {
          "base_uri": "https://localhost:8080/"
        },
        "id": "8v_LBkZ25hsf",
        "outputId": "8e768f0f-f95a-4519-9bb7-5d3fba3a1d2c"
      },
      "execution_count": 37,
      "outputs": [
        {
          "output_type": "stream",
          "name": "stdout",
          "text": [
            "[0.         0.         0.         0.         0.         0.\n",
            " 0.         0.         0.         0.99999994]\n"
          ]
        }
      ]
    }
  ]
}